{
 "cells": [
  {
   "cell_type": "code",
   "execution_count": 464,
   "metadata": {},
   "outputs": [],
   "source": [
    "import pickle\n",
    "from sklearn.ensemble import HistGradientBoostingClassifier, RandomForestClassifier as rf\n",
    "# from sklearn.linear_model import LogisticRegression\n",
    "from sklearn.compose import ColumnTransformer, make_column_selector as selector\n",
    "from sklearn.preprocessing import OrdinalEncoder\n",
    "from sklearn.pipeline import make_pipeline\n",
    "from sklearn.model_selection import cross_validate, train_test_split\n",
    "import joblib\n",
    "import pandas as pd\n",
    "import numpy as np\n"
   ]
  },
  {
   "cell_type": "code",
   "execution_count": 465,
   "metadata": {},
   "outputs": [],
   "source": [
    "with open('../src/main/app/data.pickle', 'rb') as f:\n",
    "    dataset = pickle.load(f)"
   ]
  },
  {
   "cell_type": "code",
   "execution_count": 466,
   "metadata": {},
   "outputs": [
    {
     "name": "stderr",
     "output_type": "stream",
     "text": [
      "C:\\Users\\Eric\\AppData\\Local\\Temp\\ipykernel_952\\1233825311.py:3: SettingWithCopyWarning: \n",
      "A value is trying to be set on a copy of a slice from a DataFrame\n",
      "\n",
      "See the caveats in the documentation: https://pandas.pydata.org/pandas-docs/stable/user_guide/indexing.html#returning-a-view-versus-a-copy\n",
      "  dataset['price'].loc[dataset['price'].isnull()] = '$$'\n",
      "C:\\Users\\Eric\\AppData\\Local\\Temp\\ipykernel_952\\1233825311.py:5: SettingWithCopyWarning: \n",
      "A value is trying to be set on a copy of a slice from a DataFrame\n",
      "\n",
      "See the caveats in the documentation: https://pandas.pydata.org/pandas-docs/stable/user_guide/indexing.html#returning-a-view-versus-a-copy\n",
      "  dataset['borough'].loc[dataset['borough'].str.contains('manhattan')] = 'manhattan'\n",
      "C:\\Users\\Eric\\AppData\\Local\\Temp\\ipykernel_952\\1233825311.py:6: SettingWithCopyWarning: \n",
      "A value is trying to be set on a copy of a slice from a DataFrame\n",
      "\n",
      "See the caveats in the documentation: https://pandas.pydata.org/pandas-docs/stable/user_guide/indexing.html#returning-a-view-versus-a-copy\n",
      "  dataset['borough'].loc[dataset['borough'].str.contains('queens')] = 'queens'\n",
      "C:\\Users\\Eric\\AppData\\Local\\Temp\\ipykernel_952\\1233825311.py:7: SettingWithCopyWarning: \n",
      "A value is trying to be set on a copy of a slice from a DataFrame\n",
      "\n",
      "See the caveats in the documentation: https://pandas.pydata.org/pandas-docs/stable/user_guide/indexing.html#returning-a-view-versus-a-copy\n",
      "  dataset['borough'].loc[dataset['borough'].str.contains('brooklyn')] = 'brooklyn'\n",
      "C:\\Users\\Eric\\AppData\\Local\\Temp\\ipykernel_952\\1233825311.py:8: SettingWithCopyWarning: \n",
      "A value is trying to be set on a copy of a slice from a DataFrame\n",
      "\n",
      "See the caveats in the documentation: https://pandas.pydata.org/pandas-docs/stable/user_guide/indexing.html#returning-a-view-versus-a-copy\n",
      "  dataset['borough'].loc[dataset['borough'].str.contains('bronx')] = 'bronx'\n",
      "C:\\Users\\Eric\\AppData\\Local\\Temp\\ipykernel_952\\1233825311.py:9: SettingWithCopyWarning: \n",
      "A value is trying to be set on a copy of a slice from a DataFrame\n",
      "\n",
      "See the caveats in the documentation: https://pandas.pydata.org/pandas-docs/stable/user_guide/indexing.html#returning-a-view-versus-a-copy\n",
      "  dataset['borough'].loc[dataset['borough'].str.contains('staten')] = 'staten'\n",
      "C:\\Users\\Eric\\AppData\\Local\\Temp\\ipykernel_952\\1233825311.py:10: SettingWithCopyWarning: \n",
      "A value is trying to be set on a copy of a slice from a DataFrame\n",
      "\n",
      "See the caveats in the documentation: https://pandas.pydata.org/pandas-docs/stable/user_guide/indexing.html#returning-a-view-versus-a-copy\n",
      "  dataset['borough'].loc[~dataset['borough'].str.contains('|'.join(boroughs))] = 'unknown'\n",
      "C:\\Users\\Eric\\AppData\\Local\\Temp\\ipykernel_952\\1233825311.py:17: SettingWithCopyWarning: \n",
      "A value is trying to be set on a copy of a slice from a DataFrame\n",
      "\n",
      "See the caveats in the documentation: https://pandas.pydata.org/pandas-docs/stable/user_guide/indexing.html#returning-a-view-versus-a-copy\n",
      "  dataset['transactions'].iloc[i] = sorted(dataset['transactions'].iloc[i])\n",
      "C:\\Users\\Eric\\AppData\\Local\\Temp\\ipykernel_952\\1233825311.py:21: SettingWithCopyWarning: \n",
      "A value is trying to be set on a copy of a slice from a DataFrame\n",
      "\n",
      "See the caveats in the documentation: https://pandas.pydata.org/pandas-docs/stable/user_guide/indexing.html#returning-a-view-versus-a-copy\n",
      "  dataset['price'].iloc[i] = '2'\n",
      "C:\\Users\\Eric\\AppData\\Local\\Temp\\ipykernel_952\\1233825311.py:28: SettingWithCopyWarning: \n",
      "A value is trying to be set on a copy of a slice from a DataFrame\n",
      "\n",
      "See the caveats in the documentation: https://pandas.pydata.org/pandas-docs/stable/user_guide/indexing.html#returning-a-view-versus-a-copy\n",
      "  dataset['latitude'].iloc[i] = f\"{dataset['coordinates'].iloc[i]['latitude']}\"\n",
      "C:\\Users\\Eric\\AppData\\Local\\Temp\\ipykernel_952\\1233825311.py:29: SettingWithCopyWarning: \n",
      "A value is trying to be set on a copy of a slice from a DataFrame\n",
      "\n",
      "See the caveats in the documentation: https://pandas.pydata.org/pandas-docs/stable/user_guide/indexing.html#returning-a-view-versus-a-copy\n",
      "  dataset['longitude'].iloc[i] = f\"{dataset['coordinates'].iloc[i]['longitude']}\"\n",
      "C:\\Users\\Eric\\AppData\\Local\\Temp\\ipykernel_952\\1233825311.py:34: SettingWithCopyWarning: \n",
      "A value is trying to be set on a copy of a slice from a DataFrame\n",
      "\n",
      "See the caveats in the documentation: https://pandas.pydata.org/pandas-docs/stable/user_guide/indexing.html#returning-a-view-versus-a-copy\n",
      "  dataset['categories'].iloc[i] = sorted(categories)\n",
      "C:\\Users\\Eric\\AppData\\Local\\Temp\\ipykernel_952\\1233825311.py:23: SettingWithCopyWarning: \n",
      "A value is trying to be set on a copy of a slice from a DataFrame\n",
      "\n",
      "See the caveats in the documentation: https://pandas.pydata.org/pandas-docs/stable/user_guide/indexing.html#returning-a-view-versus-a-copy\n",
      "  dataset['price'].iloc[i] = '3'\n",
      "C:\\Users\\Eric\\AppData\\Local\\Temp\\ipykernel_952\\1233825311.py:19: SettingWithCopyWarning: \n",
      "A value is trying to be set on a copy of a slice from a DataFrame\n",
      "\n",
      "See the caveats in the documentation: https://pandas.pydata.org/pandas-docs/stable/user_guide/indexing.html#returning-a-view-versus-a-copy\n",
      "  dataset['price'].iloc[i] = '1'\n",
      "C:\\Users\\Eric\\AppData\\Local\\Temp\\ipykernel_952\\1233825311.py:25: SettingWithCopyWarning: \n",
      "A value is trying to be set on a copy of a slice from a DataFrame\n",
      "\n",
      "See the caveats in the documentation: https://pandas.pydata.org/pandas-docs/stable/user_guide/indexing.html#returning-a-view-versus-a-copy\n",
      "  dataset['price'].iloc[i] = '4'\n"
     ]
    }
   ],
   "source": [
    "pd.options.display.max_rows = 400\n",
    "boroughs = ['manhattan', 'queens', 'brooklyn', 'bronx', 'staten']\n",
    "dataset['price'].loc[dataset['price'].isnull()] = '$$'\n",
    "dataset = dataset.rename({'alias': 'borough'}, axis=1)\n",
    "dataset['borough'].loc[dataset['borough'].str.contains('manhattan')] = 'manhattan'\n",
    "dataset['borough'].loc[dataset['borough'].str.contains('queens')] = 'queens'\n",
    "dataset['borough'].loc[dataset['borough'].str.contains('brooklyn')] = 'brooklyn'\n",
    "dataset['borough'].loc[dataset['borough'].str.contains('bronx')] = 'bronx'\n",
    "dataset['borough'].loc[dataset['borough'].str.contains('staten')] = 'staten'\n",
    "dataset['borough'].loc[~dataset['borough'].str.contains('|'.join(boroughs))] = 'unknown'\n",
    "\n",
    "dataset['latitude'] = ''\n",
    "dataset['longitude'] = ''\n",
    "\n",
    "for i in range(dataset.shape[0]):\n",
    "    if dataset['transactions'].iloc[i] != None:\n",
    "        dataset['transactions'].iloc[i] = sorted(dataset['transactions'].iloc[i])\n",
    "    if dataset['price'].iloc[i] == '$':\n",
    "        dataset['price'].iloc[i] = '1'\n",
    "    elif dataset['price'].iloc[i] == '$$':\n",
    "        dataset['price'].iloc[i] = '2'\n",
    "    elif dataset['price'].iloc[i] == '$$$':\n",
    "        dataset['price'].iloc[i] = '3'\n",
    "    elif dataset['price'].iloc[i] == '$$$$':\n",
    "        dataset['price'].iloc[i] = '4'\n",
    "\n",
    "    if dataset['coordinates'].iloc[i] != None:\n",
    "        dataset['latitude'].iloc[i] = f\"{dataset['coordinates'].iloc[i]['latitude']}\"\n",
    "        dataset['longitude'].iloc[i] = f\"{dataset['coordinates'].iloc[i]['longitude']}\"\n",
    "    categories = []\n",
    "    if dataset['categories'].iloc[i] != None:\n",
    "        for j in dataset['categories'].iloc[i]:\n",
    "            categories.append(j['alias'])\n",
    "            dataset['categories'].iloc[i] = sorted(categories)\n",
    "\n",
    "dataset['rating'] = np.where(dataset['rating'] > 4.0, 1, 0)\n"
   ]
  },
  {
   "cell_type": "code",
   "execution_count": 467,
   "metadata": {},
   "outputs": [],
   "source": [
    "df2 = pd.DataFrame(dataset['categories'].values.tolist(), index=dataset.index)\n",
    "df2.columns = ['category1', 'category2', 'category3', 'category4']\n",
    "df3 = [dataset, df2]\n",
    "result = pd.concat(df3, axis=1)"
   ]
  },
  {
   "cell_type": "code",
   "execution_count": 468,
   "metadata": {},
   "outputs": [],
   "source": [
    "# include = ['borough', 'review_count', 'category1', 'category2', 'category3', 'category4', 'price', 'rating', 'delivery', 'pickup', 'reservations']\n",
    "include = ['latitude', 'longitude', 'borough', 'category1', 'category2', 'category3', 'category4', 'price', 'rating']\n",
    "df = result[include]"
   ]
  },
  {
   "cell_type": "code",
   "execution_count": 482,
   "metadata": {},
   "outputs": [],
   "source": [
    "with open ('./business/data1.pickle','wb')as f:\n",
    "    pickle.dump(df, f)\n",
    "f.close()"
   ]
  },
  {
   "cell_type": "code",
   "execution_count": 470,
   "metadata": {},
   "outputs": [
    {
     "data": {
      "text/plain": [
       "['latitude',\n",
       " 'longitude',\n",
       " 'borough',\n",
       " 'category1',\n",
       " 'category2',\n",
       " 'category3',\n",
       " 'category4',\n",
       " 'price']"
      ]
     },
     "execution_count": 470,
     "metadata": {},
     "output_type": "execute_result"
    }
   ],
   "source": [
    "target = df['rating']\n",
    "df = df.drop(columns=['rating'])\n",
    "\n",
    "numerical_columns_selector = selector(dtype_exclude=object)\n",
    "categorical_columns_selector = selector(dtype_include=object)\n",
    "\n",
    "numerical_columns = numerical_columns_selector(df)\n",
    "categorical_columns = categorical_columns_selector(df)"
   ]
  },
  {
   "cell_type": "code",
   "execution_count": 471,
   "metadata": {},
   "outputs": [],
   "source": [
    "categorical_preprocessor = OrdinalEncoder(handle_unknown=\"use_encoded_value\", unknown_value=-1)\n",
    "preprocessor = ColumnTransformer([\n",
    "    ('categorical', categorical_preprocessor, categorical_columns)],\n",
    "    remainder=\"passthrough\")\n",
    "\n",
    "model = make_pipeline(preprocessor, HistGradientBoostingClassifier())"
   ]
  },
  {
   "cell_type": "code",
   "execution_count": 472,
   "metadata": {},
   "outputs": [],
   "source": [
    "x_train, x_test, y_train, y_test = train_test_split(df, target, random_state=42)"
   ]
  },
  {
   "cell_type": "code",
   "execution_count": 473,
   "metadata": {},
   "outputs": [
    {
     "name": "stdout",
     "output_type": "stream",
     "text": [
      "CPU times: total: 6.62 s\n",
      "Wall time: 1.02 s\n"
     ]
    },
    {
     "data": {
      "text/html": [
       "<style>#sk-container-id-6 {color: black;background-color: white;}#sk-container-id-6 pre{padding: 0;}#sk-container-id-6 div.sk-toggleable {background-color: white;}#sk-container-id-6 label.sk-toggleable__label {cursor: pointer;display: block;width: 100%;margin-bottom: 0;padding: 0.3em;box-sizing: border-box;text-align: center;}#sk-container-id-6 label.sk-toggleable__label-arrow:before {content: \"▸\";float: left;margin-right: 0.25em;color: #696969;}#sk-container-id-6 label.sk-toggleable__label-arrow:hover:before {color: black;}#sk-container-id-6 div.sk-estimator:hover label.sk-toggleable__label-arrow:before {color: black;}#sk-container-id-6 div.sk-toggleable__content {max-height: 0;max-width: 0;overflow: hidden;text-align: left;background-color: #f0f8ff;}#sk-container-id-6 div.sk-toggleable__content pre {margin: 0.2em;color: black;border-radius: 0.25em;background-color: #f0f8ff;}#sk-container-id-6 input.sk-toggleable__control:checked~div.sk-toggleable__content {max-height: 200px;max-width: 100%;overflow: auto;}#sk-container-id-6 input.sk-toggleable__control:checked~label.sk-toggleable__label-arrow:before {content: \"▾\";}#sk-container-id-6 div.sk-estimator input.sk-toggleable__control:checked~label.sk-toggleable__label {background-color: #d4ebff;}#sk-container-id-6 div.sk-label input.sk-toggleable__control:checked~label.sk-toggleable__label {background-color: #d4ebff;}#sk-container-id-6 input.sk-hidden--visually {border: 0;clip: rect(1px 1px 1px 1px);clip: rect(1px, 1px, 1px, 1px);height: 1px;margin: -1px;overflow: hidden;padding: 0;position: absolute;width: 1px;}#sk-container-id-6 div.sk-estimator {font-family: monospace;background-color: #f0f8ff;border: 1px dotted black;border-radius: 0.25em;box-sizing: border-box;margin-bottom: 0.5em;}#sk-container-id-6 div.sk-estimator:hover {background-color: #d4ebff;}#sk-container-id-6 div.sk-parallel-item::after {content: \"\";width: 100%;border-bottom: 1px solid gray;flex-grow: 1;}#sk-container-id-6 div.sk-label:hover label.sk-toggleable__label {background-color: #d4ebff;}#sk-container-id-6 div.sk-serial::before {content: \"\";position: absolute;border-left: 1px solid gray;box-sizing: border-box;top: 0;bottom: 0;left: 50%;z-index: 0;}#sk-container-id-6 div.sk-serial {display: flex;flex-direction: column;align-items: center;background-color: white;padding-right: 0.2em;padding-left: 0.2em;position: relative;}#sk-container-id-6 div.sk-item {position: relative;z-index: 1;}#sk-container-id-6 div.sk-parallel {display: flex;align-items: stretch;justify-content: center;background-color: white;position: relative;}#sk-container-id-6 div.sk-item::before, #sk-container-id-6 div.sk-parallel-item::before {content: \"\";position: absolute;border-left: 1px solid gray;box-sizing: border-box;top: 0;bottom: 0;left: 50%;z-index: -1;}#sk-container-id-6 div.sk-parallel-item {display: flex;flex-direction: column;z-index: 1;position: relative;background-color: white;}#sk-container-id-6 div.sk-parallel-item:first-child::after {align-self: flex-end;width: 50%;}#sk-container-id-6 div.sk-parallel-item:last-child::after {align-self: flex-start;width: 50%;}#sk-container-id-6 div.sk-parallel-item:only-child::after {width: 0;}#sk-container-id-6 div.sk-dashed-wrapped {border: 1px dashed gray;margin: 0 0.4em 0.5em 0.4em;box-sizing: border-box;padding-bottom: 0.4em;background-color: white;}#sk-container-id-6 div.sk-label label {font-family: monospace;font-weight: bold;display: inline-block;line-height: 1.2em;}#sk-container-id-6 div.sk-label-container {text-align: center;}#sk-container-id-6 div.sk-container {/* jupyter's `normalize.less` sets `[hidden] { display: none; }` but bootstrap.min.css set `[hidden] { display: none !important; }` so we also need the `!important` here to be able to override the default hidden behavior on the sphinx rendered scikit-learn.org. See: https://github.com/scikit-learn/scikit-learn/issues/21755 */display: inline-block !important;position: relative;}#sk-container-id-6 div.sk-text-repr-fallback {display: none;}</style><div id=\"sk-container-id-6\" class=\"sk-top-container\"><div class=\"sk-text-repr-fallback\"><pre>Pipeline(steps=[(&#x27;columntransformer&#x27;,\n",
       "                 ColumnTransformer(remainder=&#x27;passthrough&#x27;,\n",
       "                                   transformers=[(&#x27;categorical&#x27;,\n",
       "                                                  OrdinalEncoder(handle_unknown=&#x27;use_encoded_value&#x27;,\n",
       "                                                                 unknown_value=-1),\n",
       "                                                  [&#x27;latitude&#x27;, &#x27;longitude&#x27;,\n",
       "                                                   &#x27;borough&#x27;, &#x27;category1&#x27;,\n",
       "                                                   &#x27;category2&#x27;, &#x27;category3&#x27;,\n",
       "                                                   &#x27;category4&#x27;, &#x27;price&#x27;])])),\n",
       "                (&#x27;histgradientboostingclassifier&#x27;,\n",
       "                 HistGradientBoostingClassifier())])</pre><b>In a Jupyter environment, please rerun this cell to show the HTML representation or trust the notebook. <br />On GitHub, the HTML representation is unable to render, please try loading this page with nbviewer.org.</b></div><div class=\"sk-container\" hidden><div class=\"sk-item sk-dashed-wrapped\"><div class=\"sk-label-container\"><div class=\"sk-label sk-toggleable\"><input class=\"sk-toggleable__control sk-hidden--visually\" id=\"sk-estimator-id-36\" type=\"checkbox\" ><label for=\"sk-estimator-id-36\" class=\"sk-toggleable__label sk-toggleable__label-arrow\">Pipeline</label><div class=\"sk-toggleable__content\"><pre>Pipeline(steps=[(&#x27;columntransformer&#x27;,\n",
       "                 ColumnTransformer(remainder=&#x27;passthrough&#x27;,\n",
       "                                   transformers=[(&#x27;categorical&#x27;,\n",
       "                                                  OrdinalEncoder(handle_unknown=&#x27;use_encoded_value&#x27;,\n",
       "                                                                 unknown_value=-1),\n",
       "                                                  [&#x27;latitude&#x27;, &#x27;longitude&#x27;,\n",
       "                                                   &#x27;borough&#x27;, &#x27;category1&#x27;,\n",
       "                                                   &#x27;category2&#x27;, &#x27;category3&#x27;,\n",
       "                                                   &#x27;category4&#x27;, &#x27;price&#x27;])])),\n",
       "                (&#x27;histgradientboostingclassifier&#x27;,\n",
       "                 HistGradientBoostingClassifier())])</pre></div></div></div><div class=\"sk-serial\"><div class=\"sk-item sk-dashed-wrapped\"><div class=\"sk-label-container\"><div class=\"sk-label sk-toggleable\"><input class=\"sk-toggleable__control sk-hidden--visually\" id=\"sk-estimator-id-37\" type=\"checkbox\" ><label for=\"sk-estimator-id-37\" class=\"sk-toggleable__label sk-toggleable__label-arrow\">columntransformer: ColumnTransformer</label><div class=\"sk-toggleable__content\"><pre>ColumnTransformer(remainder=&#x27;passthrough&#x27;,\n",
       "                  transformers=[(&#x27;categorical&#x27;,\n",
       "                                 OrdinalEncoder(handle_unknown=&#x27;use_encoded_value&#x27;,\n",
       "                                                unknown_value=-1),\n",
       "                                 [&#x27;latitude&#x27;, &#x27;longitude&#x27;, &#x27;borough&#x27;,\n",
       "                                  &#x27;category1&#x27;, &#x27;category2&#x27;, &#x27;category3&#x27;,\n",
       "                                  &#x27;category4&#x27;, &#x27;price&#x27;])])</pre></div></div></div><div class=\"sk-parallel\"><div class=\"sk-parallel-item\"><div class=\"sk-item\"><div class=\"sk-label-container\"><div class=\"sk-label sk-toggleable\"><input class=\"sk-toggleable__control sk-hidden--visually\" id=\"sk-estimator-id-38\" type=\"checkbox\" ><label for=\"sk-estimator-id-38\" class=\"sk-toggleable__label sk-toggleable__label-arrow\">categorical</label><div class=\"sk-toggleable__content\"><pre>[&#x27;latitude&#x27;, &#x27;longitude&#x27;, &#x27;borough&#x27;, &#x27;category1&#x27;, &#x27;category2&#x27;, &#x27;category3&#x27;, &#x27;category4&#x27;, &#x27;price&#x27;]</pre></div></div></div><div class=\"sk-serial\"><div class=\"sk-item\"><div class=\"sk-estimator sk-toggleable\"><input class=\"sk-toggleable__control sk-hidden--visually\" id=\"sk-estimator-id-39\" type=\"checkbox\" ><label for=\"sk-estimator-id-39\" class=\"sk-toggleable__label sk-toggleable__label-arrow\">OrdinalEncoder</label><div class=\"sk-toggleable__content\"><pre>OrdinalEncoder(handle_unknown=&#x27;use_encoded_value&#x27;, unknown_value=-1)</pre></div></div></div></div></div></div><div class=\"sk-parallel-item\"><div class=\"sk-item\"><div class=\"sk-label-container\"><div class=\"sk-label sk-toggleable\"><input class=\"sk-toggleable__control sk-hidden--visually\" id=\"sk-estimator-id-40\" type=\"checkbox\" ><label for=\"sk-estimator-id-40\" class=\"sk-toggleable__label sk-toggleable__label-arrow\">remainder</label><div class=\"sk-toggleable__content\"><pre>[]</pre></div></div></div><div class=\"sk-serial\"><div class=\"sk-item\"><div class=\"sk-estimator sk-toggleable\"><input class=\"sk-toggleable__control sk-hidden--visually\" id=\"sk-estimator-id-41\" type=\"checkbox\" ><label for=\"sk-estimator-id-41\" class=\"sk-toggleable__label sk-toggleable__label-arrow\">passthrough</label><div class=\"sk-toggleable__content\"><pre>passthrough</pre></div></div></div></div></div></div></div></div><div class=\"sk-item\"><div class=\"sk-estimator sk-toggleable\"><input class=\"sk-toggleable__control sk-hidden--visually\" id=\"sk-estimator-id-42\" type=\"checkbox\" ><label for=\"sk-estimator-id-42\" class=\"sk-toggleable__label sk-toggleable__label-arrow\">HistGradientBoostingClassifier</label><div class=\"sk-toggleable__content\"><pre>HistGradientBoostingClassifier()</pre></div></div></div></div></div></div></div>"
      ],
      "text/plain": [
       "Pipeline(steps=[('columntransformer',\n",
       "                 ColumnTransformer(remainder='passthrough',\n",
       "                                   transformers=[('categorical',\n",
       "                                                  OrdinalEncoder(handle_unknown='use_encoded_value',\n",
       "                                                                 unknown_value=-1),\n",
       "                                                  ['latitude', 'longitude',\n",
       "                                                   'borough', 'category1',\n",
       "                                                   'category2', 'category3',\n",
       "                                                   'category4', 'price'])])),\n",
       "                ('histgradientboostingclassifier',\n",
       "                 HistGradientBoostingClassifier())])"
      ]
     },
     "execution_count": 473,
     "metadata": {},
     "output_type": "execute_result"
    }
   ],
   "source": [
    "%%time\n",
    "model.fit(x_train, y_train)"
   ]
  },
  {
   "cell_type": "code",
   "execution_count": 474,
   "metadata": {},
   "outputs": [
    {
     "data": {
      "text/plain": [
       "0.7112060669053394"
      ]
     },
     "execution_count": 474,
     "metadata": {},
     "output_type": "execute_result"
    }
   ],
   "source": [
    "model.predict(x_test)\n",
    "model.score(x_test, y_test)"
   ]
  },
  {
   "cell_type": "code",
   "execution_count": 475,
   "metadata": {},
   "outputs": [
    {
     "data": {
      "text/plain": [
       "{'fit_time': array([0.91721988, 0.94599915, 1.02303004, 1.01100159, 0.91485238,\n",
       "        0.89999866, 0.88899875, 0.93111396, 0.92400074, 0.89100027]),\n",
       " 'score_time': array([0.11999774, 0.11999869, 0.11699963, 0.13399887, 0.11599088,\n",
       "        0.1120019 , 0.11699915, 0.11499929, 0.11599946, 0.11200094]),\n",
       " 'test_score': array([0.55721297, 0.50562987, 0.60023097, 0.63622366, 0.64507747,\n",
       "        0.60629391, 0.64132422, 0.61649504, 0.63176131, 0.64456208])}"
      ]
     },
     "execution_count": 475,
     "metadata": {},
     "output_type": "execute_result"
    }
   ],
   "source": [
    "cv = cross_validate(model, df, target, cv=10)\n",
    "cv\n"
   ]
  },
  {
   "cell_type": "code",
   "execution_count": 476,
   "metadata": {},
   "outputs": [
    {
     "data": {
      "text/plain": [
       "['model.pkl']"
      ]
     },
     "execution_count": 476,
     "metadata": {},
     "output_type": "execute_result"
    }
   ],
   "source": [
    "joblib.dump(model, 'model.pkl')"
   ]
  }
 ],
 "metadata": {
  "kernelspec": {
   "display_name": "Python 3.9.12 ('base')",
   "language": "python",
   "name": "python3"
  },
  "language_info": {
   "codemirror_mode": {
    "name": "ipython",
    "version": 3
   },
   "file_extension": ".py",
   "mimetype": "text/x-python",
   "name": "python",
   "nbconvert_exporter": "python",
   "pygments_lexer": "ipython3",
   "version": "3.9.12"
  },
  "orig_nbformat": 4,
  "vscode": {
   "interpreter": {
    "hash": "66cb82efb67329302d3f747106a632c7db0601bc9483ecc21c622542c462cef2"
   }
  }
 },
 "nbformat": 4,
 "nbformat_minor": 2
}
